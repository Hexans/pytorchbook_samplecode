{
 "cells": [
  {
   "cell_type": "markdown",
   "metadata": {
    "colab_type": "text",
    "id": "3ZupwIgNhjm5"
   },
   "source": [
    "# 2.1 テンソル（TENSOR）"
   ]
  },
  {
   "cell_type": "code",
   "execution_count": null,
   "metadata": {
    "colab": {
     "base_uri": "https://localhost:8080/",
     "height": 527
    },
    "colab_type": "code",
    "executionInfo": {
     "elapsed": 20983,
     "status": "ok",
     "timestamp": 1595326558656,
     "user": {
      "displayName": "斎藤勇哉",
      "photoUrl": "",
      "userId": "06964401837614789891"
     },
     "user_tz": -540
    },
    "id": "Zd_PQDlRhIY2",
    "outputId": "3311743f-534d-43b8-bcab-9f47cce2d8fd"
   },
   "outputs": [
    {
     "name": "stdout",
     "output_type": "stream",
     "text": [
      "Requirement already satisfied: torch==1.4.0 in /usr/local/lib/python3.6/dist-packages (1.4.0)\n",
      "Requirement already satisfied: torchvision==0.5.0 in /usr/local/lib/python3.6/dist-packages (0.5.0)\n",
      "Requirement already satisfied: numpy in /usr/local/lib/python3.6/dist-packages (from torchvision==0.5.0) (1.19.0)\n",
      "Requirement already satisfied: pillow>=4.1.1 in /usr/local/lib/python3.6/dist-packages (from torchvision==0.5.0) (7.0.0)\n",
      "Requirement already satisfied: torch==1.4.0 in /usr/local/lib/python3.6/dist-packages (from torchvision==0.5.0) (1.4.0)\n",
      "Requirement already satisfied: six in /usr/local/lib/python3.6/dist-packages (from torchvision==0.5.0) (1.12.0)\n",
      "Requirement already satisfied: numpy==1.19.0 in /usr/local/lib/python3.6/dist-packages (1.19.0)\n",
      "Requirement already satisfied: matplotlib==3.2.2 in /usr/local/lib/python3.6/dist-packages (3.2.2)\n",
      "Requirement already satisfied: cycler>=0.10 in /usr/local/lib/python3.6/dist-packages (from matplotlib==3.2.2) (0.10.0)\n",
      "Requirement already satisfied: kiwisolver>=1.0.1 in /usr/local/lib/python3.6/dist-packages (from matplotlib==3.2.2) (1.2.0)\n",
      "Requirement already satisfied: python-dateutil>=2.1 in /usr/local/lib/python3.6/dist-packages (from matplotlib==3.2.2) (2.8.1)\n",
      "Requirement already satisfied: numpy>=1.11 in /usr/local/lib/python3.6/dist-packages (from matplotlib==3.2.2) (1.19.0)\n",
      "Requirement already satisfied: pyparsing!=2.0.4,!=2.1.2,!=2.1.6,>=2.0.1 in /usr/local/lib/python3.6/dist-packages (from matplotlib==3.2.2) (2.4.7)\n",
      "Requirement already satisfied: six in /usr/local/lib/python3.6/dist-packages (from cycler>=0.10->matplotlib==3.2.2) (1.12.0)\n",
      "Requirement already satisfied: scikit-learn==0.23.1 in /usr/local/lib/python3.6/dist-packages (0.23.1)\n",
      "Requirement already satisfied: threadpoolctl>=2.0.0 in /usr/local/lib/python3.6/dist-packages (from scikit-learn==0.23.1) (2.1.0)\n",
      "Requirement already satisfied: joblib>=0.11 in /usr/local/lib/python3.6/dist-packages (from scikit-learn==0.23.1) (0.16.0)\n",
      "Requirement already satisfied: scipy>=0.19.1 in /usr/local/lib/python3.6/dist-packages (from scikit-learn==0.23.1) (1.4.1)\n",
      "Requirement already satisfied: numpy>=1.13.3 in /usr/local/lib/python3.6/dist-packages (from scikit-learn==0.23.1) (1.19.0)\n",
      "Requirement already satisfied: seaborn==0.10.1 in /usr/local/lib/python3.6/dist-packages (0.10.1)\n",
      "Requirement already satisfied: scipy>=1.0.1 in /usr/local/lib/python3.6/dist-packages (from seaborn==0.10.1) (1.4.1)\n",
      "Requirement already satisfied: pandas>=0.22.0 in /usr/local/lib/python3.6/dist-packages (from seaborn==0.10.1) (1.0.5)\n",
      "Requirement already satisfied: numpy>=1.13.3 in /usr/local/lib/python3.6/dist-packages (from seaborn==0.10.1) (1.19.0)\n",
      "Requirement already satisfied: matplotlib>=2.1.2 in /usr/local/lib/python3.6/dist-packages (from seaborn==0.10.1) (3.2.2)\n",
      "Requirement already satisfied: pytz>=2017.2 in /usr/local/lib/python3.6/dist-packages (from pandas>=0.22.0->seaborn==0.10.1) (2018.9)\n",
      "Requirement already satisfied: python-dateutil>=2.6.1 in /usr/local/lib/python3.6/dist-packages (from pandas>=0.22.0->seaborn==0.10.1) (2.8.1)\n",
      "Requirement already satisfied: cycler>=0.10 in /usr/local/lib/python3.6/dist-packages (from matplotlib>=2.1.2->seaborn==0.10.1) (0.10.0)\n",
      "Requirement already satisfied: kiwisolver>=1.0.1 in /usr/local/lib/python3.6/dist-packages (from matplotlib>=2.1.2->seaborn==0.10.1) (1.2.0)\n",
      "Requirement already satisfied: pyparsing!=2.0.4,!=2.1.2,!=2.1.6,>=2.0.1 in /usr/local/lib/python3.6/dist-packages (from matplotlib>=2.1.2->seaborn==0.10.1) (2.4.7)\n",
      "Requirement already satisfied: six>=1.5 in /usr/local/lib/python3.6/dist-packages (from python-dateutil>=2.6.1->pandas>=0.22.0->seaborn==0.10.1) (1.12.0)\n"
     ]
    }
   ],
   "source": [
    "# 必要なパッケージのインストール\n",
    "!pip3 install torch==1.4.0\n",
    "!pip3 install torchvision==0.5.0\n",
    "!pip3 install numpy==1.19.0\n",
    "!pip3 install matplotlib==3.2.2\n",
    "!pip3 install scikit-learn==0.23.1\n",
    "!pip3 install seaborn==0.10.1"
   ]
  },
  {
   "cell_type": "code",
   "execution_count": null,
   "metadata": {
    "colab": {},
    "colab_type": "code",
    "id": "RvoCxH00h2Ml"
   },
   "outputs": [],
   "source": [
    "# 必要なパッケージをインポート\n",
    "import torch\n",
    "import numpy as np"
   ]
  },
  {
   "cell_type": "markdown",
   "metadata": {
    "colab_type": "text",
    "id": "XRM3hDnGkEJi"
   },
   "source": [
    "## 2.1.1 Tensorの生成"
   ]
  },
  {
   "cell_type": "code",
   "execution_count": null,
   "metadata": {
    "colab": {
     "base_uri": "https://localhost:8080/",
     "height": 34
    },
    "colab_type": "code",
    "executionInfo": {
     "elapsed": 21906,
     "status": "ok",
     "timestamp": 1595326559591,
     "user": {
      "displayName": "斎藤勇哉",
      "photoUrl": "",
      "userId": "06964401837614789891"
     },
     "user_tz": -540
    },
    "id": "Wg0DDFGohyfF",
    "outputId": "8b4e8536-768f-4ec0-b2c0-8f716f15659c"
   },
   "outputs": [
    {
     "name": "stdout",
     "output_type": "stream",
     "text": [
      "tensor([1, 2, 3])\n"
     ]
    }
   ],
   "source": [
    "# listを渡してTensorを生成\n",
    "x = torch.tensor([1, 2, 3])\n",
    "print(x)"
   ]
  },
  {
   "cell_type": "code",
   "execution_count": null,
   "metadata": {
    "colab": {
     "base_uri": "https://localhost:8080/",
     "height": 51
    },
    "colab_type": "code",
    "executionInfo": {
     "elapsed": 21902,
     "status": "ok",
     "timestamp": 1595326559592,
     "user": {
      "displayName": "斎藤勇哉",
      "photoUrl": "",
      "userId": "06964401837614789891"
     },
     "user_tz": -540
    },
    "id": "4gEH00lAkJZW",
    "outputId": "3ba0c75a-8209-400e-d91c-d1e60965c029"
   },
   "outputs": [
    {
     "name": "stdout",
     "output_type": "stream",
     "text": [
      "tensor([[1, 2, 3],\n",
      "        [4, 5, 6]])\n"
     ]
    }
   ],
   "source": [
    "# listを入れ子にしてTensorを生成\n",
    "x = torch.tensor([[1, 2, 3], [4, 5, 6]])\n",
    "print(x)"
   ]
  },
  {
   "cell_type": "code",
   "execution_count": null,
   "metadata": {
    "colab": {
     "base_uri": "https://localhost:8080/",
     "height": 34
    },
    "colab_type": "code",
    "executionInfo": {
     "elapsed": 21895,
     "status": "ok",
     "timestamp": 1595326559592,
     "user": {
      "displayName": "斎藤勇哉",
      "photoUrl": "",
      "userId": "06964401837614789891"
     },
     "user_tz": -540
    },
    "id": "B4y12g9ekkra",
    "outputId": "c9eb68af-e48c-44ce-cf94-0248ebe499ea"
   },
   "outputs": [
    {
     "data": {
      "text/plain": [
       "torch.Size([2, 3])"
      ]
     },
     "execution_count": 5,
     "metadata": {
      "tags": []
     },
     "output_type": "execute_result"
    }
   ],
   "source": [
    "x = torch.tensor([[1, 2, 3], [4, 5, 6]])\n",
    "x.size()  # Tensorの形状を確認"
   ]
  },
  {
   "cell_type": "code",
   "execution_count": null,
   "metadata": {
    "colab": {
     "base_uri": "https://localhost:8080/",
     "height": 34
    },
    "colab_type": "code",
    "executionInfo": {
     "elapsed": 21891,
     "status": "ok",
     "timestamp": 1595326559593,
     "user": {
      "displayName": "斎藤勇哉",
      "photoUrl": "",
      "userId": "06964401837614789891"
     },
     "user_tz": -540
    },
    "id": "1ZMUsfTdkmpW",
    "outputId": "240450f3-9ed5-44c9-c988-649fe1f3e9a8"
   },
   "outputs": [
    {
     "data": {
      "text/plain": [
       "torch.float64"
      ]
     },
     "execution_count": 6,
     "metadata": {
      "tags": []
     },
     "output_type": "execute_result"
    }
   ],
   "source": [
    "# データ型を指定せずにTensorを生成\n",
    "x1 = torch.tensor([[1, 2, 3], [4, 5, 6]])\n",
    "\n",
    "# dtypeを指定して64ビット浮動小数点数型のTensorを生成\n",
    "x2 = torch.tensor([[1, 2, 3], [4, 5, 6]], dtype=torch.float64)\n",
    "\n",
    "# torchのメソッドから64ビット浮動小数点数型のTensorを生成\n",
    "x3 = torch.DoubleTensor([[1, 2, 3], [4, 5, 6]])\n",
    "\n",
    "# dtypeの確認\n",
    "x1.dtype  # データ型指定なし\n",
    "x2.dtype  # データ型指定\n",
    "x3.dtype  # データ型指定"
   ]
  },
  {
   "cell_type": "code",
   "execution_count": null,
   "metadata": {
    "colab": {
     "base_uri": "https://localhost:8080/",
     "height": 34
    },
    "colab_type": "code",
    "executionInfo": {
     "elapsed": 21886,
     "status": "ok",
     "timestamp": 1595326559593,
     "user": {
      "displayName": "斎藤勇哉",
      "photoUrl": "",
      "userId": "06964401837614789891"
     },
     "user_tz": -540
    },
    "id": "tl64ckdTkoZL",
    "outputId": "d4d8c996-43d8-4cac-926a-477aadaa1d79"
   },
   "outputs": [
    {
     "name": "stdout",
     "output_type": "stream",
     "text": [
      "tensor([0, 1, 2, 3, 4, 5, 6, 7, 8, 9])\n"
     ]
    }
   ],
   "source": [
    "# 0から9までの1次元Tensorを生成\n",
    "x = torch.arange(0, 10)\n",
    "print(x)"
   ]
  },
  {
   "cell_type": "code",
   "execution_count": null,
   "metadata": {
    "colab": {
     "base_uri": "https://localhost:8080/",
     "height": 34
    },
    "colab_type": "code",
    "executionInfo": {
     "elapsed": 21881,
     "status": "ok",
     "timestamp": 1595326559594,
     "user": {
      "displayName": "斎藤勇哉",
      "photoUrl": "",
      "userId": "06964401837614789891"
     },
     "user_tz": -540
    },
    "id": "B-MCUbUgko6k",
    "outputId": "9871ab5e-28be-4f78-8da1-0fef54023b19"
   },
   "outputs": [
    {
     "name": "stdout",
     "output_type": "stream",
     "text": [
      "tensor([0.0000, 2.2500, 4.5000, 6.7500, 9.0000])\n"
     ]
    }
   ],
   "source": [
    "# 0から始まって9まで2ずつ増えていく1次元Tensorを生成\n",
    "x = torch.linspace(0, 9, 5)\n",
    "print(x)"
   ]
  },
  {
   "cell_type": "code",
   "execution_count": null,
   "metadata": {
    "colab": {
     "base_uri": "https://localhost:8080/",
     "height": 51
    },
    "colab_type": "code",
    "executionInfo": {
     "elapsed": 21876,
     "status": "ok",
     "timestamp": 1595326559594,
     "user": {
      "displayName": "斎藤勇哉",
      "photoUrl": "",
      "userId": "06964401837614789891"
     },
     "user_tz": -540
    },
    "id": "T_ZsfJGhkrKO",
    "outputId": "dcfdc6f3-90f2-474e-c33c-33a46cb38e2b"
   },
   "outputs": [
    {
     "name": "stdout",
     "output_type": "stream",
     "text": [
      "tensor([[0.6831, 0.8217, 0.6585],\n",
      "        [0.9272, 0.9321, 0.2359]])\n"
     ]
    }
   ],
   "source": [
    "# 0から1の間の乱数を生成\n",
    "x = torch.rand(2, 3)\n",
    "print(x)"
   ]
  },
  {
   "cell_type": "code",
   "execution_count": null,
   "metadata": {
    "colab": {
     "base_uri": "https://localhost:8080/",
     "height": 51
    },
    "colab_type": "code",
    "executionInfo": {
     "elapsed": 21871,
     "status": "ok",
     "timestamp": 1595326559595,
     "user": {
      "displayName": "斎藤勇哉",
      "photoUrl": "",
      "userId": "06964401837614789891"
     },
     "user_tz": -540
    },
    "id": "-zcjPQQlksUw",
    "outputId": "539d4f0b-38b8-40a0-8959-4d91b5651910"
   },
   "outputs": [
    {
     "name": "stdout",
     "output_type": "stream",
     "text": [
      "tensor([[0., 0., 0.],\n",
      "        [0., 0., 0.]])\n"
     ]
    }
   ],
   "source": [
    "# 2x3の零テンソルを生成\n",
    "x = torch.zeros(2, 3)\n",
    "print(x)"
   ]
  },
  {
   "cell_type": "code",
   "execution_count": null,
   "metadata": {
    "colab": {
     "base_uri": "https://localhost:8080/",
     "height": 51
    },
    "colab_type": "code",
    "executionInfo": {
     "elapsed": 21866,
     "status": "ok",
     "timestamp": 1595326559595,
     "user": {
      "displayName": "斎藤勇哉",
      "photoUrl": "",
      "userId": "06964401837614789891"
     },
     "user_tz": -540
    },
    "id": "oFXn4ezfktRd",
    "outputId": "fd94bdc4-fdee-441b-ad90-de72652bd879"
   },
   "outputs": [
    {
     "name": "stdout",
     "output_type": "stream",
     "text": [
      "tensor([[1., 1., 1.],\n",
      "        [1., 1., 1.]])\n"
     ]
    }
   ],
   "source": [
    "# 形状が2x3で要素がすべて1のテンソルを生成\n",
    "x = torch.ones(2, 3)\n",
    "print(x)"
   ]
  },
  {
   "cell_type": "code",
   "execution_count": null,
   "metadata": {
    "colab": {
     "base_uri": "https://localhost:8080/",
     "height": 34
    },
    "colab_type": "code",
    "executionInfo": {
     "elapsed": 25933,
     "status": "ok",
     "timestamp": 1595326563667,
     "user": {
      "displayName": "斎藤勇哉",
      "photoUrl": "",
      "userId": "06964401837614789891"
     },
     "user_tz": -540
    },
    "id": "4UrCSzfZkuM_",
    "outputId": "02cf4db1-7890-4ff0-e1d9-ba4b351ad7d9"
   },
   "outputs": [
    {
     "data": {
      "text/plain": [
       "device(type='cuda', index=0)"
      ]
     },
     "execution_count": 12,
     "metadata": {
      "tags": []
     },
     "output_type": "execute_result"
    }
   ],
   "source": [
    "x = torch.tensor([1, 2, 3]).to('cuda')\n",
    "x.device"
   ]
  },
  {
   "cell_type": "markdown",
   "metadata": {
    "colab_type": "text",
    "id": "nc62Vyn8tsiu"
   },
   "source": [
    "## 2.1.2 Tensorの変換"
   ]
  },
  {
   "cell_type": "code",
   "execution_count": null,
   "metadata": {
    "colab": {
     "base_uri": "https://localhost:8080/",
     "height": 51
    },
    "colab_type": "code",
    "executionInfo": {
     "elapsed": 25928,
     "status": "ok",
     "timestamp": 1595326563667,
     "user": {
      "displayName": "斎藤勇哉",
      "photoUrl": "",
      "userId": "06964401837614789891"
     },
     "user_tz": -540
    },
    "id": "izmRL--dtrky",
    "outputId": "5bfe8a39-f3ea-469c-8ea5-7b55ed0fa7f0"
   },
   "outputs": [
    {
     "name": "stdout",
     "output_type": "stream",
     "text": [
      "[[1 2 3]\n",
      " [4 5 6]]\n"
     ]
    }
   ],
   "source": [
    "# ndarrayの生成\n",
    "array = np.array([[1,2,3],[4,5,6]])\n",
    "print(array)"
   ]
  },
  {
   "cell_type": "code",
   "execution_count": null,
   "metadata": {
    "colab": {
     "base_uri": "https://localhost:8080/",
     "height": 51
    },
    "colab_type": "code",
    "executionInfo": {
     "elapsed": 25924,
     "status": "ok",
     "timestamp": 1595326563668,
     "user": {
      "displayName": "斎藤勇哉",
      "photoUrl": "",
      "userId": "06964401837614789891"
     },
     "user_tz": -540
    },
    "id": "tNofgtPpuFpn",
    "outputId": "016bb241-57ad-4546-c8e3-59eb711a66d1"
   },
   "outputs": [
    {
     "name": "stdout",
     "output_type": "stream",
     "text": [
      "tensor([[1, 2, 3],\n",
      "        [4, 5, 6]])\n"
     ]
    }
   ],
   "source": [
    "# ndarrayからTensorへ変換\n",
    "tensor = torch.from_numpy(array)\n",
    "print(tensor)"
   ]
  },
  {
   "cell_type": "code",
   "execution_count": null,
   "metadata": {
    "colab": {
     "base_uri": "https://localhost:8080/",
     "height": 51
    },
    "colab_type": "code",
    "executionInfo": {
     "elapsed": 25919,
     "status": "ok",
     "timestamp": 1595326563668,
     "user": {
      "displayName": "斎藤勇哉",
      "photoUrl": "",
      "userId": "06964401837614789891"
     },
     "user_tz": -540
    },
    "id": "xAyX3K8QudbM",
    "outputId": "aa6b1225-26a6-49f3-9b86-d49fd843dd39"
   },
   "outputs": [
    {
     "name": "stdout",
     "output_type": "stream",
     "text": [
      "[[1 2 3]\n",
      " [4 5 6]]\n"
     ]
    }
   ],
   "source": [
    "# Tensorからndarrayへ変換\n",
    "tensor2array = tensor.numpy()\n",
    "print(tensor2array)"
   ]
  },
  {
   "cell_type": "markdown",
   "metadata": {
    "colab_type": "text",
    "id": "tUQ4ZWitujZL"
   },
   "source": [
    "## 2.1.3 Tensorの操作"
   ]
  },
  {
   "cell_type": "code",
   "execution_count": null,
   "metadata": {
    "colab": {
     "base_uri": "https://localhost:8080/",
     "height": 34
    },
    "colab_type": "code",
    "executionInfo": {
     "elapsed": 25914,
     "status": "ok",
     "timestamp": 1595326563668,
     "user": {
      "displayName": "斎藤勇哉",
      "photoUrl": "",
      "userId": "06964401837614789891"
     },
     "user_tz": -540
    },
    "id": "th5KAMYtuhri",
    "outputId": "863820ef-82f4-4d37-c9ca-8260636e8a73"
   },
   "outputs": [
    {
     "name": "stdout",
     "output_type": "stream",
     "text": [
      "tensor(6)\n"
     ]
    }
   ],
   "source": [
    "# インデックスの指定\n",
    "x = torch.tensor([[1, 2, 3], [4, 5, 6]])\n",
    "print(x[1, 2])"
   ]
  },
  {
   "cell_type": "code",
   "execution_count": null,
   "metadata": {
    "colab": {
     "base_uri": "https://localhost:8080/",
     "height": 34
    },
    "colab_type": "code",
    "executionInfo": {
     "elapsed": 25910,
     "status": "ok",
     "timestamp": 1595326563669,
     "user": {
      "displayName": "斎藤勇哉",
      "photoUrl": "",
      "userId": "06964401837614789891"
     },
     "user_tz": -540
    },
    "id": "4VezLYOau0D3",
    "outputId": "b6d56c98-5ce7-4df8-c4d8-185f02450218"
   },
   "outputs": [
    {
     "name": "stdout",
     "output_type": "stream",
     "text": [
      "tensor([4, 5, 6])\n"
     ]
    }
   ],
   "source": [
    "# スライスで要素を取得\n",
    "x = torch.tensor([[1, 2, 3], [4, 5, 6]])\n",
    "print(x[1, :])"
   ]
  },
  {
   "cell_type": "code",
   "execution_count": null,
   "metadata": {
    "colab": {
     "base_uri": "https://localhost:8080/",
     "height": 102
    },
    "colab_type": "code",
    "executionInfo": {
     "elapsed": 25905,
     "status": "ok",
     "timestamp": 1595326563669,
     "user": {
      "displayName": "斎藤勇哉",
      "photoUrl": "",
      "userId": "06964401837614789891"
     },
     "user_tz": -540
    },
    "id": "Ybb82kRpu2Dh",
    "outputId": "22d7b40a-d206-4b6b-fc95-af2fd490676c"
   },
   "outputs": [
    {
     "name": "stdout",
     "output_type": "stream",
     "text": [
      "tensor([[1, 2, 3],\n",
      "        [4, 5, 6]])\n",
      "tensor([[1, 2],\n",
      "        [3, 4],\n",
      "        [5, 6]])\n"
     ]
    }
   ],
   "source": [
    "# 2x3から3x2のTensorに変換\n",
    "x = torch.tensor([[1, 2, 3], [4, 5, 6]])\n",
    "x_reshape = x.view(3, 2)\n",
    "print(x)  # 変換前の2x3のTensor\n",
    "print(x_reshape)  # 変換後の3x2のTensor"
   ]
  },
  {
   "cell_type": "markdown",
   "metadata": {
    "colab_type": "text",
    "id": "6f3ey8j6u-sx"
   },
   "source": [
    "## 2.1.4 Tensorの演算"
   ]
  },
  {
   "cell_type": "code",
   "execution_count": null,
   "metadata": {
    "colab": {
     "base_uri": "https://localhost:8080/",
     "height": 153
    },
    "colab_type": "code",
    "executionInfo": {
     "elapsed": 25899,
     "status": "ok",
     "timestamp": 1595326563670,
     "user": {
      "displayName": "斎藤勇哉",
      "photoUrl": "",
      "userId": "06964401837614789891"
     },
     "user_tz": -540
    },
    "id": "lkKWF7Gpu3wm",
    "outputId": "0e90f595-4eec-44f2-fc1d-8af379f521e4"
   },
   "outputs": [
    {
     "name": "stdout",
     "output_type": "stream",
     "text": [
      "tensor([[3., 4., 5.],\n",
      "        [6., 7., 8.]], dtype=torch.float64)\n",
      "tensor([[-1.,  0.,  1.],\n",
      "        [ 2.,  3.,  4.]], dtype=torch.float64)\n",
      "tensor([[ 2.,  4.,  6.],\n",
      "        [ 8., 10., 12.]], dtype=torch.float64)\n",
      "tensor([[0.5000, 1.0000, 1.5000],\n",
      "        [2.0000, 2.5000, 3.0000]], dtype=torch.float64)\n"
     ]
    }
   ],
   "source": [
    "# Tensorとスカラーの四則演算\n",
    "x = torch.tensor([[1, 2, 3], [4, 5, 6]], dtype=torch.float64)\n",
    "print(x + 2)  # 足し算\n",
    "print(x - 2)  # 引き算\n",
    "print(x * 2)  # 掛け算\n",
    "print(x / 2)  # 足し算"
   ]
  },
  {
   "cell_type": "code",
   "execution_count": null,
   "metadata": {
    "colab": {
     "base_uri": "https://localhost:8080/",
     "height": 153
    },
    "colab_type": "code",
    "executionInfo": {
     "elapsed": 25893,
     "status": "ok",
     "timestamp": 1595326563670,
     "user": {
      "displayName": "斎藤勇哉",
      "photoUrl": "",
      "userId": "06964401837614789891"
     },
     "user_tz": -540
    },
    "id": "lo8b2z-qu-JP",
    "outputId": "e80f2709-9638-4937-f3cc-0c9f5ce5edec"
   },
   "outputs": [
    {
     "name": "stdout",
     "output_type": "stream",
     "text": [
      "tensor([[ 5.,  7.,  9.],\n",
      "        [11., 13., 15.]], dtype=torch.float64)\n",
      "tensor([[-3., -3., -3.],\n",
      "        [-3., -3., -3.]], dtype=torch.float64)\n",
      "tensor([[ 4., 10., 18.],\n",
      "        [28., 40., 54.]], dtype=torch.float64)\n",
      "tensor([[0.2500, 0.4000, 0.5000],\n",
      "        [0.5714, 0.6250, 0.6667]], dtype=torch.float64)\n"
     ]
    }
   ],
   "source": [
    "# Tensor同士の四則演算\n",
    "x = torch.tensor([[1, 2, 3], [4, 5, 6]], dtype=torch.float64)\n",
    "y = torch.tensor([[4, 5, 6], [7, 8, 9]], dtype=torch.float64)\n",
    "print(x + y)  # 足し算\n",
    "print(x - y)  # 引き算\n",
    "print(x * y)  # 掛け算\n",
    "print(x / y)  # 割り算"
   ]
  },
  {
   "cell_type": "code",
   "execution_count": null,
   "metadata": {
    "colab": {
     "base_uri": "https://localhost:8080/",
     "height": 85
    },
    "colab_type": "code",
    "executionInfo": {
     "elapsed": 25889,
     "status": "ok",
     "timestamp": 1595326563671,
     "user": {
      "displayName": "斎藤勇哉",
      "photoUrl": "",
      "userId": "06964401837614789891"
     },
     "user_tz": -540
    },
    "id": "Ru2B2sw3vMGE",
    "outputId": "cda4312d-9c62-48f2-b7ca-a016157cf9b0"
   },
   "outputs": [
    {
     "name": "stdout",
     "output_type": "stream",
     "text": [
      "tensor(1., dtype=torch.float64)\n",
      "tensor(6., dtype=torch.float64)\n",
      "tensor(3.5000, dtype=torch.float64)\n",
      "tensor(21., dtype=torch.float64)\n"
     ]
    }
   ],
   "source": [
    "x = torch.tensor([[1, 2, 3], [4, 5, 6]], dtype=torch.float64)\n",
    "print(torch.min(x))  # 最小値\n",
    "print(torch.max(x))  # 最大値\n",
    "print(torch.mean(x))  # 平均値\n",
    "print(torch.sum(x))  # 合計値"
   ]
  },
  {
   "cell_type": "code",
   "execution_count": null,
   "metadata": {
    "colab": {
     "base_uri": "https://localhost:8080/",
     "height": 34
    },
    "colab_type": "code",
    "executionInfo": {
     "elapsed": 25885,
     "status": "ok",
     "timestamp": 1595326563672,
     "user": {
      "displayName": "斎藤勇哉",
      "photoUrl": "",
      "userId": "06964401837614789891"
     },
     "user_tz": -540
    },
    "id": "b0YGGZsAvOCf",
    "outputId": "0fb138fd-2ee1-43ed-e48d-f04c978e5352"
   },
   "outputs": [
    {
     "name": "stdout",
     "output_type": "stream",
     "text": [
      "21.0\n"
     ]
    }
   ],
   "source": [
    "x = torch.tensor([[1, 2, 3], [4, 5, 6]], dtype=torch.float64)\n",
    "print(torch.sum(x).item())  # 合計値"
   ]
  }
 ],
 "metadata": {
  "accelerator": "GPU",
  "colab": {
   "authorship_tag": "ABX9TyPjl8kDe590qJdiZqx9il4f",
   "collapsed_sections": [],
   "name": "Section2-1.ipynb",
   "provenance": []
  },
  "kernelspec": {
   "display_name": "Python 3",
   "language": "python",
   "name": "python3"
  },
  "language_info": {
   "codemirror_mode": {
    "name": "ipython",
    "version": 3
   },
   "file_extension": ".py",
   "mimetype": "text/x-python",
   "name": "python",
   "nbconvert_exporter": "python",
   "pygments_lexer": "ipython3",
   "version": "3.6.9"
  }
 },
 "nbformat": 4,
 "nbformat_minor": 1
}
